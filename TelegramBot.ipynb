{
 "cells": [
  {
   "cell_type": "markdown",
   "metadata": {},
   "source": [
    "# Telegram API\n",
    "\n",
    "Мы попробуем написать бота для телеграма. Телеграм предоставляет разработчикам API (Application program interface). На [официальной странице](https://core.telegram.org/bots/api) можно почитать, какие запросы нужно отправлять к API.\n",
    "\n",
    "Но если у сервиса есть API, то скорее всего найдется программист, который напишет удобный модуль на питоне, который облегчит работу с этим API. Этот модуль &ndash; набор функций, которые собирают запросы, отправляют их, получают и интерпретируют ответы и т.д. Иными словами, взять готовый модуль бывает удобнее, чем общаться с API напрямую. \n",
    "\n",
    "Для Телеграма существует много оберток:\n",
    "\n",
    "* [python-telegram-bot](https://github.com/python-telegram-bot/python-telegram-bot)\n",
    "* [telepot](https://github.com/nickoala/telepot)\n",
    "* [pyTelegramBotAPI](https://github.com/eternnoir/pyTelegramBotAPI).\n",
    "\n",
    "Мы будем учиться пользоваться pyTelegramBotAPI."
   ]
  },
  {
   "cell_type": "markdown",
   "metadata": {},
   "source": [
    "# API Token\n",
    "\n",
    "Перед тем как писать логику бота, нам нужно получить уникальный токен бота, а для этого нужно иметь аккаунт в телеграме. Действия такие:\n",
    "\n",
    "1) Если нет аккаунта, то нужно зарегистрироваться в телеграме &mdash; https://web.telegram.org (для этого нужно ввести номер телефона, получить смс с кодом и ввести код на странице подтверждения номера)\n",
    "\n",
    "2) Чтобы получить токен, нужно начать чат с крестным отцом всех ботов - https://t.me/BotFather. Ему нужно написать:\n",
    "  * `/newbot` = \"Я хочу создать нового бота\"\n",
    "  * Ввести имя бота &ndash; то, что будет отображаться как имя всем, кто с нашим ботом потом будет общаться.\n",
    "  * Ввести юзернейм бота &ndash; он должен заканчиваться на `bot` и быть уникальным.\n",
    "  * После этого нам пришлют API токен.\n",
    "  \n",
    "3) В той папке, где вы будете писать бота, нужно создать питоновский файл (например, `conf.py`) и записать туда токен:\n",
    "    \n",
    "  `TOKEN = \"сюда вставить ваш токен\"`\n",
    "    \n",
    "Это нужно для того, чтобы не показывать в коде свои логины, пароли и токены доступа. В основной файл с программой этот файл можно будет просто импортировать строчкой `import conf`. Тогда переменная `TOKEN` будет доступна внутри основной программы как `conf.TOKEN`."
   ]
  },
  {
   "cell_type": "markdown",
   "metadata": {},
   "source": [
    "# pyTelegramBotAPI\n",
    "\n",
    "Для начала модуль нужно установить, если у вас его еще нет. \n",
    "\n",
    "`pip install pyTelegramBotAPI`\n",
    "\n",
    "Теперь мы можем писать бота, например, в `my_bot.py`:"
   ]
  },
  {
   "cell_type": "code",
   "execution_count": null,
   "metadata": {
    "collapsed": true
   },
   "outputs": [],
   "source": [
    "import telebot  # импортируем модуль pyTelegramBotAPI\n",
    "import conf     # импортируем наш секретный токен\n",
    "\n",
    "bot = telebot.TeleBot(conf.TOKEN)  # создаем экземпляр бота"
   ]
  },
  {
   "cell_type": "markdown",
   "metadata": {},
   "source": [
    "Теперь напишем обработчики сообщений (message handlers), которые будут реагировать на сообщения. "
   ]
  },
  {
   "cell_type": "code",
   "execution_count": null,
   "metadata": {
    "collapsed": true
   },
   "outputs": [],
   "source": [
    "# этот обработчик запускает функцию send_welcome, когда пользователь отправляет команды /start или /help\n",
    "@bot.message_handler(commands=['start', 'help'])\n",
    "def send_welcome(message):\n",
    "\tbot.send_message(message.chat.id, \"Здравствуйте! Я бот.\")"
   ]
  },
  {
   "cell_type": "code",
   "execution_count": null,
   "metadata": {
    "collapsed": true
   },
   "outputs": [],
   "source": [
    "@bot.message_handler(func=lambda m: True)  # этот обработчик реагирует на любое сообщение\n",
    "def send_len(message):\n",
    "\tbot.send_message(message.chat.id, 'В вашем сообщении {} символов.'.format(len(message.text)))"
   ]
  },
  {
   "cell_type": "markdown",
   "metadata": {},
   "source": [
    "В общем случае обработчик сообщения выглядит так:"
   ]
  },
  {
   "cell_type": "code",
   "execution_count": null,
   "metadata": {
    "collapsed": true
   },
   "outputs": [],
   "source": [
    "@bot.message_handler(...) # здесь описываем, на какие сообщения реагирует функция\n",
    "def my_function(message):\n",
    "    reply = '' \n",
    "    # здесь код, который генерирует ответ\n",
    "\tbot.send_message(message.chat.id, reply)  # отправляем в чат наш ответ"
   ]
  },
  {
   "cell_type": "markdown",
   "metadata": {},
   "source": [
    "Теперь попросим бота бесконечно опрашивать сервера телеграма на предмет новых сообщений (как-то так: \"Мне что-нибудь пришло? А сейчас пришло что-нибудь? А сейчас? Пришло? Пришло? А сейчас написали что-нибудь мне?\"). Параметр `none_stop=True` говорит, что бот должен стараться не прекращать работу при возникновении каких-либо ошибок. "
   ]
  },
  {
   "cell_type": "code",
   "execution_count": null,
   "metadata": {
    "scrolled": false
   },
   "outputs": [],
   "source": [
    "if __name__ == '__main__':\n",
    "    bot.polling(none_stop=True)"
   ]
  },
  {
   "cell_type": "markdown",
   "metadata": {},
   "source": [
    "Чтобы бот заработал, нам нужно просто запустить программу с этим кодом. Теперь мы можем в телеграме обратиться к нашему боту, и он нам ответит."
   ]
  },
  {
   "cell_type": "code",
   "execution_count": null,
   "metadata": {
    "collapsed": true
   },
   "outputs": [],
   "source": [
    "import telebot  # импортируем модуль pyTelegramBotAPI\n",
    "import conf     # импортируем наш секретный токен\n",
    "\n",
    "bot = telebot.TeleBot(conf.TOKEN)  # создаем экземпляр бота\n",
    "\n",
    "# этот обработчик запускает функцию send_welcome, когда пользователь отправляет команды /start или /help\n",
    "@bot.message_handler(commands=['start', 'help'])\n",
    "def send_welcome(message):\n",
    "\tbot.send_message(message.chat.id, \"Здравствуйте! Это бот, который считает длину вашего сообщения.\")\n",
    "    \n",
    "@bot.message_handler(func=lambda m: True)  # этот обработчик реагирует на любое сообщение\n",
    "def send_len(message):\n",
    "\tbot.send_message(message.chat.id, 'В вашем сообщении {} символов.'.format(len(message.text)))\n",
    "    \n",
    "if __name__ == '__main__':\n",
    "    bot.polling(none_stop=True)"
   ]
  },
  {
   "cell_type": "markdown",
   "metadata": {},
   "source": [
    "### Другие примеры обработчиков"
   ]
  },
  {
   "cell_type": "code",
   "execution_count": null,
   "metadata": {
    "collapsed": true
   },
   "outputs": [],
   "source": [
    "@bot.message_handler(func=lambda m: 'да' in m.text)  # этот обработчик реагирует на сообщения со словом \"да\"\n",
    "def send_yay(message):\n",
    "\tbot.send_message(message.chat.id, 'ура!')"
   ]
  },
  {
   "cell_type": "code",
   "execution_count": null,
   "metadata": {
    "collapsed": true
   },
   "outputs": [],
   "source": [
    "@bot.message_handler(func=lambda m: 'нет' in m.text)  # этот обработчик реагирует на сообщения со словом \"нет\"\n",
    "def send_well(message):\n",
    "\tbot.send_message(message.chat.id, 'ну как хочешь')"
   ]
  },
  {
   "cell_type": "code",
   "execution_count": null,
   "metadata": {
    "collapsed": true
   },
   "outputs": [],
   "source": [
    "@bot.message_handler(content_types=['sticker', 'audio'])  # этот обработчик реагирует на стикеры и аудио\n",
    "def send_len(message):\n",
    "\tbot.send_message(message.chat.id, 'спасибо!')"
   ]
  },
  {
   "cell_type": "code",
   "execution_count": null,
   "metadata": {
    "collapsed": true
   },
   "outputs": [],
   "source": [
    "@bot.message_handler(content_types=['text'])  # этот обработчик реагирует на любое сообщение и посылает его длину в словах\n",
    "def send_len(message):\n",
    "\tbot.send_message(message.chat.id, 'В вашем сообщении {} слов.'.format(len(message.text.split(' '))))"
   ]
  },
  {
   "cell_type": "code",
   "execution_count": null,
   "metadata": {
    "collapsed": true
   },
   "outputs": [],
   "source": [
    "@bot.message_handler(regexp=\"[0-9]+\") # этот обработчик при помощи регулярного выражения обрабатывает сообщения, где есть только цифры\n",
    "def handle_message(message):\n",
    "\tbot.send_message(message.chat.id, 'цифры')"
   ]
  },
  {
   "cell_type": "markdown",
   "metadata": {},
   "source": [
    "*Туториал основан на [руководстве для студентов НИУ ВШЭ](https://github.com/elmiram/2016learnpython/blob/master/TelegramBot1.ipynb).*"
   ]
  }
 ],
 "metadata": {
  "kernelspec": {
   "display_name": "Python 3",
   "language": "python",
   "name": "python3"
  },
  "language_info": {
   "codemirror_mode": {
    "name": "ipython",
    "version": 3
   },
   "file_extension": ".py",
   "mimetype": "text/x-python",
   "name": "python",
   "nbconvert_exporter": "python",
   "pygments_lexer": "ipython3",
   "version": "3.5.2"
  }
 },
 "nbformat": 4,
 "nbformat_minor": 1
}
